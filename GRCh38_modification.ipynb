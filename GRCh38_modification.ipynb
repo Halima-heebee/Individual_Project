{
 "cells": [
  {
   "cell_type": "code",
   "execution_count": null,
   "id": "f6aaca18-5c46-4c83-81ad-45e4f04dc413",
   "metadata": {},
   "outputs": [],
   "source": [
    "import pandas as pd"
   ]
  },
  {
   "cell_type": "code",
   "execution_count": null,
   "id": "720cb780-1433-4008-803c-b9ae89cc85de",
   "metadata": {},
   "outputs": [],
   "source": [
    "### To change the chromosome annotation in reference genome to canonical annotation\n",
    "#use readfq (https://github.com/lh3/readfq) to parse fastq, creates function readfq\n",
    "\n",
    "def readfq(fp): # this is a generator function\n",
    "    last = None # this is a buffer keeping the last unprocessed line\n",
    "    while True: # mimic closure; is it a bad idea?\n",
    "        if not last: # the first record or a record following a fastq\n",
    "            for l in fp: # search for the start of the next record\n",
    "                if l[0] in '>@': # fasta/q header line\n",
    "                    last = l[:-1] # save this line\n",
    "                    break\n",
    "        if not last: break\n",
    "        name, seqs, last = last[1:].partition(\" \")[0], [], None\n",
    "        for l in fp: # read the sequence\n",
    "            if l[0] in '@+>':\n",
    "                last = l[:-1]\n",
    "                break\n",
    "            seqs.append(l[:-1])\n",
    "        if not last or last[0] != '+': # this is a fasta record\n",
    "            yield name, ''.join(seqs), None # yield a fasta record\n",
    "            if not last: break\n",
    "        else: # this is a fastq record\n",
    "            seq, leng, seqs = ''.join(seqs), 0, []\n",
    "            for l in fp: # read the quality\n",
    "                seqs.append(l[:-1])\n",
    "                leng += len(l) - 1\n",
    "                if leng >= len(seq): # have read enough quality\n",
    "                    last = None\n",
    "                    yield name, seq, ''.join(seqs); # yield a fastq record\n",
    "                    break\n",
    "            if last: # reach EOF before reading enough quality\n",
    "                yield name, seq, None # yield a fasta record instead\n",
    "                break"
   ]
  },
  {
   "cell_type": "code",
   "execution_count": null,
   "id": "3f338339-8e1d-45d7-9296-3b770e69cd95",
   "metadata": {},
   "outputs": [],
   "source": [
    "#create a name_map\n",
    "name_map = {\n",
    "    \"NC_000001.11\": \"chr1\",\n",
    "\"NC_000002.12\": \"chr2\",\n",
    "\"NC_000003.12\": \"chr3\",\n",
    "\"NC_000004.12\": \"chr4\",\n",
    "\"NC_000005.10\": \"chr5\",\n",
    "\"NC_000006.12\": \"chr6\",\n",
    "\"NC_000007.14\": \"chr7\",\n",
    "\"NC_000008.11\": \"chr8\",\n",
    "\"NC_000009.12\": \"chr9\",\n",
    "\"NC_000010.11\": \"chr10\",\n",
    "\"NC_000011.10\": \"chr11\",\n",
    "\"NC_000012.12\": \"chr12\",\n",
    "\"NC_000013.11\": \"chr13\",\n",
    "\"NC_000014.9\": \"chr14\",\n",
    "\"NC_000015.10\": \"chr15\",\n",
    "\"NC_000016.10\": \"chr16\",\n",
    "\"NC_000017.11\": \"chr17\",\n",
    "\"NC_000018.10\": \"chr18\",\n",
    "\"NC_000019.10\": \"chr19\",\n",
    "\"NC_000020.11\": \"chr20\",\n",
    "\"NC_000021.9\": \"chr21\",\n",
    "\"NC_000022.11\": \"chr22\",\n",
    "\"NC_000023.11\": \"chrX\",\n",
    "\"NC_000024.10\": \"chrY\",\n",
    "\"NC_012920.1\": \"chrM\"}"
   ]
  },
  {
   "cell_type": "code",
   "execution_count": null,
   "id": "56f4df0f-9772-40e5-b1af-ebf694dc378e",
   "metadata": {},
   "outputs": [],
   "source": [
    "#use the function readfq with for loop to make changes\n",
    "with open(\"/home/mbxha18/data/GENOME/GRCh38.p14_canonical.fna\", \"w\") as new_file:\n",
    "    with open(\"/home/mbxha18/data/GENOME/GCF_000001405.40_GRCh38.p14_genomic.fna\") as REF:\n",
    "        for read_id, seq, _ in readfq(REF):\n",
    "            if read_id.startswith(\"NC\"):\n",
    "                print(f\">{name_map[read_id]}\\n{seq}\", file=new_file)\n",
    "                print(read_id, len(seq))"
   ]
  },
  {
   "cell_type": "code",
   "execution_count": null,
   "id": "acb654cd-50c6-47cc-93ee-92e1781eddcb",
   "metadata": {},
   "outputs": [],
   "source": [
    "#confirm the changes made\n",
    "with open(\"/home/mbxha18/data/GENOME/GRCh38.p14_canonical.fna\") as new_REF:\n",
    "    for read_id, seq, _ in readfq(new_REF):\n",
    "        print(read_id, len(seq))"
   ]
  }
 ],
 "metadata": {
  "kernelspec": {
   "display_name": "Python 3 (ipykernel)",
   "language": "python",
   "name": "python3"
  },
  "language_info": {
   "codemirror_mode": {
    "name": "ipython",
    "version": 3
   },
   "file_extension": ".py",
   "mimetype": "text/x-python",
   "name": "python",
   "nbconvert_exporter": "python",
   "pygments_lexer": "ipython3",
   "version": "3.9.12"
  }
 },
 "nbformat": 4,
 "nbformat_minor": 5
}
